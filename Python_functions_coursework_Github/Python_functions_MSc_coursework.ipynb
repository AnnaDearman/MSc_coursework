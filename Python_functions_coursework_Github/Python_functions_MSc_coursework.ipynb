{
 "cells": [
  {
   "cell_type": "markdown",
   "metadata": {},
   "source": [
    "<div style=\"text-align: left\">Anna Dearman</div> <div style=\"text-align: right\">October 2019</div>\n",
    "   \n",
    "<center><span style=\"text-decoration: underline\">Python Functions Assignment</span></center>"
   ]
  },
  {
   "cell_type": "markdown",
   "metadata": {},
   "source": [
    "#### Introduction\n",
    "\n",
    "For this assignment, I was given a Jupyter notebook outlining a series of functions that I was required to write. Further detail is included below.\n",
    "\n",
    "My lecturer wrote the \"test code\" cells to enable us to partially test our functions.\n",
    "\n",
    "##### Please note: this is written in Python 2.\n",
    "\n",
    "All necessary libraries were imported:"
   ]
  },
  {
   "cell_type": "code",
   "execution_count": null,
   "metadata": {},
   "outputs": [],
   "source": [
    "# os.path from standard library, Python v 2.7.19\n",
    "import os.path\n",
    "# math from standard library, Python v 2.7.19\n",
    "import math"
   ]
  },
  {
   "cell_type": "markdown",
   "metadata": {},
   "source": [
    "# Question 1: Primers and melting temperature"
   ]
  },
  {
   "cell_type": "markdown",
   "metadata": {},
   "source": [
    "### Question 1.a: Reading a DNA sequence from a file\n",
    "\n",
    "Write a python function called ```readDNAsequence``` that takes as its argument the name of a file.  When passed the name of a FASTA file, the function should read the file, discard the header and return the sequence as a string. Your code should raise ```BadSequenceException``` (defined below) if the sequence part of the file contains characters that are not one of the letters A, C, T, G, U. All U nucleotides should be replaced by T in the returned string (for simplicity, we will be working with T only throughout the rest of this assignment)."
   ]
  },
  {
   "cell_type": "code",
   "execution_count": null,
   "metadata": {},
   "outputs": [],
   "source": [
    "# Run this cell to define the exception\n",
    "class BadSequenceException(Exception):\n",
    "    pass"
   ]
  },
  {
   "cell_type": "code",
   "execution_count": null,
   "metadata": {},
   "outputs": [],
   "source": [
    "# Your code here\n",
    "def readDNAsequence(filename):\n",
    "    output_alphabet=[\"A\",\"C\",\"T\",\"G\"] # Lists acceptable output characters\n",
    "    FASTA=open(filename,\"r\")# Opens the file in read mode\n",
    "    FASTA.readline() # Reads the first line and advances the file pointer to the start of the next line\n",
    "    seqraw=\"\" # Initialises the raw, uncorrected string \n",
    "    for a in FASTA: # Reads each remaining line separately so that trailing newline characters\n",
    "    # can be removed using .rstrip()\n",
    "        seqraw+=a.rstrip()\n",
    "    FASTA.close() # Closes the file\n",
    "    seqraw=seqraw.upper() # Turns the sequence into uppercase for comparison with acceptable characters \n",
    "    seq=\"\" # Initialises the string to be returned\n",
    "    for b in seqraw: # Looks through each letter in seqraw\n",
    "        if b in output_alphabet: # If the letter is A, C, G or T\n",
    "            seq+=b # Adds it to the string to be returned\n",
    "        elif b==\"U\": # If the letter is U\n",
    "            seq+=\"T\" # Adds T to the string to be returned\n",
    "        else: # If the letter isn't A, C, G, T or U\n",
    "            raise BadSequenceException # Raises an error\n",
    "    return seq"
   ]
  },
  {
   "cell_type": "code",
   "execution_count": null,
   "metadata": {},
   "outputs": [],
   "source": [
    "# Test code\n",
    "import os\n",
    "with open(\"test9876345.fas\", \"wt\") as _OUTF:\n",
    "    _OUTF.write(\"> test\\n\")\n",
    "    _OUTF.write(\"ACTG\\n\")\n",
    "_seq=readDNAsequence(\"test9876345.fas\")\n",
    "assert type(_seq) is type(\"\"), \"Return value is not a string: %r\" % _seq\n",
    "os.remove(\"test9876345.fas\")\n",
    "print \"OK\""
   ]
  },
  {
   "cell_type": "markdown",
   "metadata": {},
   "source": [
    "### Question 1.b: Computing the complement of a sequence"
   ]
  },
  {
   "cell_type": "markdown",
   "metadata": {},
   "source": [
    "Write a function called ```complement``` that takes a string containing a DNA sequence as its only  parameter and returns the complement of the sequence in a string. The function should raise ```BadSequenceException``` if the argument sequence contains anything else than the four characters A, C, T, G.\n"
   ]
  },
  {
   "cell_type": "code",
   "execution_count": null,
   "metadata": {},
   "outputs": [],
   "source": [
    "# Your code here\n",
    "def complement(input_string):\n",
    "    input_alphabet=[\"A\",\"C\",\"T\",\"G\"] # Lists acceptable input characters\n",
    "    input_string=input_string.upper() # Converts the input string to uppercase if necessary\n",
    "    comp_seq=\"\" # Initialises pre-reversed complementary sequence string\n",
    "    for c in input_string: # Looks through each letter in input_string\n",
    "        if c not in input_alphabet: # If any letter isn't A, C, T or G\n",
    "            raise BadSequenceException # Raises an error\n",
    "        elif c==\"A\":\n",
    "            comp_seq+=\"T\" # For every A encountered, replace with T\n",
    "        elif c==\"C\":\n",
    "            comp_seq+=\"G\" # For every C encountered, replace with G\n",
    "        elif c==\"G\":\n",
    "            comp_seq+=\"C\" # For every G encountered, replace with C\n",
    "        elif c==\"T\":\n",
    "            comp_seq+=\"A\" # For every T encountered, replace with A\n",
    "        else:\n",
    "            break\n",
    "    comp_seq2=\"\" # Initialises string to be returned\n",
    "    for d in reversed(range(-len(comp_seq),0)): # Provides the sequence in 5' to 3' orientation\n",
    "        comp_seq2+=comp_seq[d]\n",
    "    return comp_seq2"
   ]
  },
  {
   "cell_type": "code",
   "execution_count": null,
   "metadata": {},
   "outputs": [],
   "source": [
    "# Test code\n",
    "_seq=complement(\"ACGTTTCG\")\n",
    "assert type(_seq) is type(\"\"), \"Return value is not a string: %r\" % _seq\n",
    "print \"OK\""
   ]
  },
  {
   "cell_type": "markdown",
   "metadata": {},
   "source": [
    "### Question 1.c: Extracting primers"
   ]
  },
  {
   "cell_type": "markdown",
   "metadata": {
    "collapsed": true
   },
   "source": [
    "Write a function called ```primer``` that takes three parameters: a DNA sequence called ```sequence```, an integer ```length``` that is 20 by default and a Boolean value ```forward``` that is ```True``` by default. When ```forward``` is ```True``` (or is not passed), the function should return a Forward primer for the sequence passed as ```sequence```; when it is ```False```, it should return a  Reverse primer. The length of the primer is specified by ```length```; if this is not passed, a primer of length 20 should be returned.  Refer to the Background document for a definition of primers and how to compute them. If the sequence is shorter than ```length``` nucleotides, your code should return a ```BadSequenceException```.\n"
   ]
  },
  {
   "cell_type": "code",
   "execution_count": null,
   "metadata": {},
   "outputs": [],
   "source": [
    "# Your code here\n",
    "def primer(sequence,length=20,forward=True):\n",
    "    if len(sequence)<length: # Raise error if the sequence is shorter than\n",
    "        # the specified, or default, primer length\n",
    "        raise BadSequenceException\n",
    "    else:\n",
    "        if forward==True: # If forward primer requested,\n",
    "            seq=sequence[0:length] # primer sequence should be a slice of supplied sequence\n",
    "        else: # If reverse primer requested,\n",
    "            seq=complement(sequence) # primer sequence should be complementary to supplied sequence\n",
    "            seq=seq[0:length] # and should be a slice of the correct length\n",
    "    seq=seq.upper() # Sequence is made uppercase\n",
    "    return seq"
   ]
  },
  {
   "cell_type": "code",
   "execution_count": null,
   "metadata": {},
   "outputs": [],
   "source": [
    "# Test code\n",
    "_seq=primer(sequence=\"AAAAATTTTTCCCCCGGGGGAAAAA\", length= 20, forward=False)\n",
    "assert type(_seq) is type(\"\"), \"Return value is not a string: %r\" % _seq\n",
    "print \"OK\""
   ]
  },
  {
   "cell_type": "markdown",
   "metadata": {},
   "source": [
    "### Question 1.d: Computing the melting temperature"
   ]
  },
  {
   "cell_type": "markdown",
   "metadata": {},
   "source": [
    "Write a function called ```meltingTemp``` that takes a string representing a primer as its argument. The function should return the melting temperature of the primer in degrees Celsius according to the equation given in the Background document. If tthe sequence contains characters other than A, C, T, G, the function should raise a ```BadSequenceException```."
   ]
  },
  {
   "cell_type": "code",
   "execution_count": null,
   "metadata": {},
   "outputs": [],
   "source": [
    "# Your code here\n",
    "def meltingTemp(primer):\n",
    "    primer=primer.upper() # Makes string uppercase for subsequent comparison\n",
    "    input_alphabet=[\"A\",\"C\",\"T\",\"G\"] # Lists acceptable input characters\n",
    "    for d in primer: # Check each character in primer\n",
    "        if d not in input_alphabet: # Raise error if illegal character found\n",
    "            raise BadSequenceException\n",
    "    GCcount=0 # Accumulator for GC count\n",
    "    ATcount=0 # Accumulator for AT count\n",
    "    for e in primer: # For each character in the primer string\n",
    "        if e==\"A\" or e==\"T\": # Add 1 to the appropriate accumulator\n",
    "            ATcount+=1\n",
    "        elif e==\"C\" or e==\"G\":\n",
    "            GCcount+=1\n",
    "        else:\n",
    "            break\n",
    "    Tm=(4*GCcount)+(2*ATcount) # Calculate melting temperature\n",
    "    return Tm"
   ]
  },
  {
   "cell_type": "code",
   "execution_count": null,
   "metadata": {},
   "outputs": [],
   "source": [
    "# Test code\n",
    "_temp=meltingTemp(\"AAAAATTTTTCCCCCGGGGG\")\n",
    "assert ((type(_temp) is type(0.0)) or\n",
    "        (type(_temp) is type(0))), \"Return value is not a number: %r\" % _temp\n",
    "print \"OK\""
   ]
  },
  {
   "cell_type": "markdown",
   "metadata": {},
   "source": [
    "### Question 1.e: Putting it all together\n",
    "\n",
    "Write a function called ```sequencePCRtemp``` that takes a string containing the name of a FASTA file as its argument. The function should return the average melting temperature of the two primers of the sequence as a ```float```."
   ]
  },
  {
   "cell_type": "code",
   "execution_count": null,
   "metadata": {},
   "outputs": [],
   "source": [
    "# Your code here\n",
    "def sequencePCRtemp(filename):\n",
    "    nucleotides=readDNAsequence(filename) # Get DNA sequence\n",
    "    primer1=primer(nucleotides,forward=True) # Design forward primer\n",
    "    primer2=primer(nucleotides,forward=False) # Design reverse primer\n",
    "    p1Tm=meltingTemp(primer1) # Get melting temperature for forward primer\n",
    "    p2Tm=meltingTemp(primer2) # Get melting temperature for reverse primer\n",
    "    average=float((p1Tm+p2Tm)/2) # Calculate average Tm\n",
    "    return average"
   ]
  },
  {
   "cell_type": "code",
   "execution_count": null,
   "metadata": {},
   "outputs": [],
   "source": [
    "# Test code\n",
    "import os\n",
    "with open(\"test9876346.fas\", \"wt\") as _OUTF:\n",
    "    _OUTF.write(\"> test\\n\")\n",
    "    _OUTF.write(\"AAAAACCCCCTTTTTGGGGGAAAAA\\n\")\n",
    "_temp=sequencePCRtemp(\"test9876346.fas\")\n",
    "assert type(_temp) is type(0.0), \"Return value is not a float: %r\" % _temp\n",
    "os.remove(\"test9876346.fas\")\n",
    "print \"OK\""
   ]
  },
  {
   "cell_type": "markdown",
   "metadata": {},
   "source": [
    "# Question 2: Translation and reading frames"
   ]
  },
  {
   "cell_type": "markdown",
   "metadata": {},
   "source": [
    "### Question 2.a: Reading frames\n",
    "Write a function ```translate``` that takes a string containing a DNA sequence as its input and outputs a Python dictionary containing the translation of the sequence in all possible reading frames. The keys of the dictionary should be ```f1```, ```f2```, ```f3``` for the three forward frames and ```r1```, ```r2``` and ```r3``` for the reverse reading frames; the value of each key should the translation of the sequence in the corresponding frame. Use an asterisk (```*```) to represent stop codons."
   ]
  },
  {
   "cell_type": "code",
   "execution_count": null,
   "metadata": {},
   "outputs": [],
   "source": [
    "# Your code here\n",
    "def translate(string):\n",
    "    string=string.upper() # Converts the string to uppercase, if required\n",
    "    aminoacidcodons={\"F\":[\"TTT\",\"TTC\"], # Dictionary of amino acid codons\n",
    "                     \"L\":[\"TTA\",\"TTG\",\"CTT\",\"CTC\",\"CTA\",\"CTG\"],\n",
    "                     \"I\":[\"ATT\",\"ATC\",\"ATA\"],\n",
    "                     \"M\":[\"ATG\"],\n",
    "                     \"V\":[\"GTT\",\"GTC\",\"GTA\",\"GTG\"],\n",
    "                     \"S\":[\"TCT\",\"TCC\",\"TCA\",\"TCG\",\"AGT\",\"AGC\"],\n",
    "                     \"P\":[\"CCT\",\"CCC\",\"CCA\",\"CCG\"],\n",
    "                     \"T\":[\"ACT\",\"ACC\",\"ACA\",\"ACG\"],\n",
    "                     \"A\":[\"GCT\",\"GCC\",\"GCA\",\"GCG\"],\n",
    "                     \"Y\":[\"TAT\",\"TAC\"],\n",
    "                     \"*\":[\"TAA\",\"TAG\",\"TGA\"],\n",
    "                     \"H\":[\"CAT\",\"CAC\"],\n",
    "                     \"Q\":[\"CAA\",\"CAG\"],\n",
    "                     \"N\":[\"AAT\",\"AAC\"],\n",
    "                     \"K\":[\"AAA\",\"AAG\"],\n",
    "                     \"D\":[\"GAT\",\"GAC\"],\n",
    "                     \"E\":[\"GAA\",\"GAG\"],\n",
    "                     \"C\":[\"TGT\",\"TGC\"],\n",
    "                     \"W\":[\"TGG\"],\n",
    "                     \"R\":[\"CGT\",\"CGC\",\"CGA\",\"CGG\",\"AGA\",\"AGG\"],\n",
    "                     \"G\":[\"GGT\",\"GGC\",\"GGA\",\"GGG\"]}\n",
    "    f1dna=string # The string for the first forward reading frame\n",
    "    while len(f1dna)%3!=0: # Make string length divisible by 3 for translation\n",
    "        f1dna=f1dna[0:-1]\n",
    "    f2dna=string[1:] # The string for the second forward reading frame\n",
    "    while len(f2dna)%3!=0: # Make string length divisible by 3 for translation\n",
    "        f2dna=f2dna[0:-1]\n",
    "    f3dna=string[2:] # The string for the third forward reading frame\n",
    "    while len(f3dna)%3!=0: # Make string length divisible by 3 for translation\n",
    "        f3dna=f3dna[0:-1]\n",
    "    revstring=complement(string) # Infers the complementary strand sequence 5'->3'\n",
    "    r1dna=revstring # The string for the first reverse reading frame\n",
    "    while len(r1dna)%3!=0: # Make string length divisible by 3 for translation\n",
    "        r1dna=r1dna[0:-1]\n",
    "    r2dna=revstring[1:] # The string for the second reverse reading frame\n",
    "    while len(r2dna)%3!=0: # Make string length divisible by 3 for translation\n",
    "        r2dna=r2dna[0:-1]\n",
    "    r3dna=revstring[2:] # The string for the third reverse reading frame\n",
    "    while len(r3dna)%3!=0: # Make string length divisible by 3 for translation\n",
    "        r3dna=r3dna[0:-1]\n",
    "    f1=\"\" # Initialises the string that will eventually become the dictionary value for f1\n",
    "    f2=\"\" # Initialises the string that will eventually become the dictionary value for f2\n",
    "    f3=\"\" # Initialises the string that will eventually become the dictionary value for f3\n",
    "    r1=\"\" # Initialises the string that will eventually become the dictionary value for r1\n",
    "    r2=\"\" # Initialises the string that will eventually become the dictionary value for r2\n",
    "    r3=\"\" # Initialises the string that will eventually become the dictionary value for r3\n",
    "    for e in range(0,len(f1dna),3): # For every third base in the string\n",
    "        for f in aminoacidcodons.keys(): # Check the amino acid dictionary\n",
    "            if f1dna[e:e+3] in aminoacidcodons[f]: # If the codon is in the value for a given key\n",
    "                f1+=f # Add the key to the string\n",
    "            else:\n",
    "                continue\n",
    "    for g in range(0,len(f2dna),3): # For every third base in the string\n",
    "        for h in aminoacidcodons.keys(): # Check the amino acid dictionary\n",
    "            if f2dna[g:g+3] in aminoacidcodons[h]: # If the codon is in the value for a given key\n",
    "                f2+=h # Add the key to the string\n",
    "            else:\n",
    "                continue    \n",
    "    for i in range(0,len(f3dna),3): # For every third base in the string\n",
    "        for j in aminoacidcodons.keys(): # Check the amino acid dictionary\n",
    "            if f3dna[i:i+3] in aminoacidcodons[j]: # If the codon is in the value for a given key\n",
    "                f3+=j # Add the key to the string\n",
    "            else:\n",
    "                continue    \n",
    "    for e in range(0,len(r1dna),3): # For every third base in the string\n",
    "        for f in aminoacidcodons.keys(): # Check the amino acid dictionary\n",
    "            if r1dna[e:e+3] in aminoacidcodons[f]: # If the codon is in the value for a given key\n",
    "                r1+=f # Add the key to the string\n",
    "            else:\n",
    "                continue\n",
    "    for g in range(0,len(r2dna),3): # For every third base in the string\n",
    "        for h in aminoacidcodons.keys(): # Check the amino acid dictionary\n",
    "            if r2dna[g:g+3] in aminoacidcodons[h]: # If the codon is in the value for a given key\n",
    "                r2+=h # Add the key to the string\n",
    "            else:\n",
    "                continue    \n",
    "    for i in range(0,len(r3dna),3): # For every third base in the string\n",
    "        for j in aminoacidcodons.keys(): # Check the amino acid dictionary\n",
    "            if r3dna[i:i+3] in aminoacidcodons[j]: # If the codon is in the value for a given key\n",
    "                r3+=j # Add the key to the string\n",
    "            else:\n",
    "                continue    \n",
    "    transdict={} # Initialises the dictionary to be returned\n",
    "    transdict[\"f1\"]=f1 # Add each string to the dictionary\n",
    "    transdict[\"f2\"]=f2\n",
    "    transdict[\"f3\"]=f3\n",
    "    transdict[\"r1\"]=r1\n",
    "    transdict[\"r2\"]=r2\n",
    "    transdict[\"r3\"]=r3\n",
    "    return transdict"
   ]
  },
  {
   "cell_type": "code",
   "execution_count": null,
   "metadata": {},
   "outputs": [],
   "source": [
    "# Test code\n",
    "_seqdic=translate(\"ACTGACTGACTGACTGACTGACTG\")\n",
    "assert type(_seqdic)==type(dict()), \"Return value is not a dictionary: %r\" % _seqdic\n",
    "assert set(_seqdic.keys())==set(['f1', 'f2', 'f3', 'r1', 'r2', 'r3']), \\\n",
    "    \"Output dictionary has incorrect/missing keys: %r\"  % _seqdic.keys()\n",
    "assert type(_seqdic['f1'])==type(\"\"), \\\n",
    "    \"Output dictionary values should be strings, not %r\" % type(_seqdic['f1'])\n",
    "print \"OK\""
   ]
  },
  {
   "cell_type": "markdown",
   "metadata": {},
   "source": [
    "### Question 2.b: Locating an ORF\n",
    "\n",
    "Write a function called ```openReadingFrame``` that takes a string containing an aminoacid sequence as its argument and returns a string containing the aminoacids between the first Methionine (included) and the first STOP codon that follows it (excluded). Assume the stop codon is represented by an asterisk (```*```) as would be returned by ```translate``` above. If either the Methionine or the STOP codon are missing, your function should return an empty string."
   ]
  },
  {
   "cell_type": "code",
   "execution_count": null,
   "metadata": {},
   "outputs": [],
   "source": [
    "# Your code here\n",
    "def openReadingFrame(aminos):\n",
    "    protein=\"\" # Initialise protein string to return\n",
    "    if \"M\" not in aminos: # Return an empty string if there isn't an \"M\" in the sequence\n",
    "        protein=\"\"\n",
    "    elif \"*\" not in aminos: # Return an empty string if there isn't an \"*\" in the sequence\n",
    "        protein=\"\"\n",
    "    else: # For sequences with an M and a *:\n",
    "        for k,l in enumerate(aminos): # Look through input string\n",
    "            if l!=\"M\": # Ignore letters before M\n",
    "                continue\n",
    "            if l==\"M\": # When M is found\n",
    "                protein+=l # Add it to the string to return\n",
    "                aminos=aminos[k+1:] # remove first M and preceding residues\n",
    "                for m in aminos: # Look through subsequent residues\n",
    "                    if m!=\"*\": # Add residues until * is reached\n",
    "                        protein+=m\n",
    "                    else:\n",
    "                        break\n",
    "\n",
    "    return protein"
   ]
  },
  {
   "cell_type": "code",
   "execution_count": null,
   "metadata": {},
   "outputs": [],
   "source": [
    "# Test code\n",
    "_seq=openReadingFrame(\"AMCAPP*L\")\n",
    "assert type(_seq) is type(\"\"), \"Return value is not a string: %r\" % _seq\n",
    "print \"OK\""
   ]
  },
  {
   "cell_type": "markdown",
   "metadata": {},
   "source": [
    "### Question 2.c: Translating a sequence\n",
    "\n",
    "Write a function called ```candidateProtein``` that takes a string containing a DNA sequence as its input and outputs the string of aminoacids corresponding to the longest ORF, as extracted by ```openReadingFrame``` above."
   ]
  },
  {
   "cell_type": "code",
   "execution_count": null,
   "metadata": {},
   "outputs": [],
   "source": [
    "# Your code here\n",
    "def candidateProtein(dna):\n",
    "    stringdict=translate(dna) # Generate dictionary containing the six possible reading frames\n",
    "    sixproteins=[] # Generate empty list in which to store the six possible longest proteins\n",
    "    for n in stringdict.values(): # Look through six reading frame sequences\n",
    "        protein=\"\" # Empty string in which to temporarily store predicted protein from each string\n",
    "        protein=openReadingFrame(n) # Predict a protein from the string and store\n",
    "        sixproteins.append(protein) # Add protein to list\n",
    "    longest=\"\" # Placeholder for longest protein\n",
    "    for o in sixproteins: # Check each protein of the six\n",
    "        if len(o)>len(longest): # If the protein is longer than the string currently in \"longest\"\n",
    "            longest=o # Replace \"longest\" with the protein in question\n",
    "    return longest"
   ]
  },
  {
   "cell_type": "code",
   "execution_count": null,
   "metadata": {},
   "outputs": [],
   "source": [
    "# Test code\n",
    "_seq=candidateProtein(\"ATGACTGCTGGGTAG\")\n",
    "assert type(_seq) is type(\"\"), \"Return value is not a string: %r\" % _seq\n",
    "print \"OK\""
   ]
  },
  {
   "cell_type": "markdown",
   "metadata": {},
   "source": [
    "### Question 2.d: Writing a FASTA file\n",
    "\n",
    "Write a function called ```writeFASTA``` that takes three string arguments called, in the order, ```sequence```, ```description``` and ```filename```. Argument ```sequence``` should contain an aminoacid sequence. Argument ```header``` should contain a description (eg name of protein, organism, etc). Argument ```filename``` should contain a file name. Your code should create the file with the name requested, write to  it the description as a FASTA header (i.e. starting with the character ```>```) and write the sequence to the file. Long sequences should be formatted over several lines. The function should not return any value."
   ]
  },
  {
   "cell_type": "code",
   "execution_count": null,
   "metadata": {},
   "outputs": [],
   "source": [
    "# Your code here\n",
    "def writeFASTA(sequence,description,filename):\n",
    "    sequence=sequence.upper() # Make sequence uppercase\n",
    "    FILE=open(filename,\"wt\") # Use the filename as the file name, open a new file in write mode\n",
    "    FILE.write(\">\"+description+\"\\n\") # Write the header\n",
    "    alist=[] # To store sequence in chunks of 60\n",
    "    for p in range(60,len(sequence),60): # For every 60th character\n",
    "        chunk=\"\" # Start a new chunk of 60\n",
    "        chunk=sequence[0:60] # Assign the first 60 characters to chunk\n",
    "        sequence=sequence[60:] # Remove the first 60 characters from sequence\n",
    "        alist.append(chunk) # Add the chunk to the list\n",
    "    alist.append(sequence) # Add the last chunk, <60 characters, to the list\n",
    "    for q in alist:\n",
    "        FILE.write(q+\"\\n\")\n",
    "    FILE.close()"
   ]
  },
  {
   "cell_type": "code",
   "execution_count": null,
   "metadata": {},
   "outputs": [],
   "source": [
    "# Test code\n",
    "import os\n",
    "import os.path\n",
    "_rv=writeFASTA(sequence=\"TESTTESTTESTTESTTEST\",\n",
    "              description=\"test sequence\",\n",
    "              filename=\"test9876347.fas\")\n",
    "assert type(_rv) is type(None), \"Function should not return anything; it returns %r\" % _rv\n",
    "_fe=os.path.isfile(\"test9876347.fas\")\n",
    "assert _fe, \"Cannot find output file - has it been created?\"\n",
    "os.remove(\"test9876347.fas\")\n",
    "print \"OK\""
   ]
  },
  {
   "cell_type": "markdown",
   "metadata": {},
   "source": [
    "### Question 2.e: Putting it all together\n",
    "\n",
    "\n",
    "Write a function called ```maximalORF``` that takes as its argument string ```inputfile``` containing the name of an input file, string ```outputfile``` with the name of an output file and string  ```proteinname``` with a description of a candidate protein. The function should read a DNA sequence from the input file and write the candidate protein corresponding to the longest ORF to the output file, in FASTA format. The string supplied in ```proteinname``` should provide the header of the FASTA file. The function should not return any value."
   ]
  },
  {
   "cell_type": "code",
   "execution_count": null,
   "metadata": {},
   "outputs": [],
   "source": [
    "# Your code here\n",
    "def maximalORF(inputfile,outputfile,proteinname):\n",
    "    DNAstring=readDNAsequence(inputfile) # Read the DNA sequence from a supplied FASTA file\n",
    "    sequence=candidateProtein(DNAstring) # Find the longest possible protein \n",
    "    description=proteinname # Prepare description for writing\n",
    "    writeFASTA(sequence,description,outputfile) # Write file"
   ]
  },
  {
   "cell_type": "code",
   "execution_count": null,
   "metadata": {},
   "outputs": [],
   "source": [
    "# Test code\n",
    "import os\n",
    "import os.path\n",
    "with open(\"test9876348.fas\", \"wt\") as _OUTF:\n",
    "    _OUTF.write(\"> test\\n\")\n",
    "    _OUTF.write(\"ATGACTGCTGGGTAG\\n\")\n",
    "_rv=maximalORF(inputfile=\"test9876348.fas\", outputfile=\"test9876349.fas\",\n",
    "               proteinname=\"test protein\")\n",
    "assert type(_rv) is type(None), \"Function should not return anything; it returns %r\" % _rv\n",
    "_fe=os.path.isfile(\"test9876349.fas\")\n",
    "assert _fe, \"Cannot find output file - has it been created?\"\n",
    "os.remove(\"test9876348.fas\")\n",
    "os.remove(\"test9876349.fas\")\n",
    "print \"OK\""
   ]
  },
  {
   "cell_type": "markdown",
   "metadata": {},
   "source": [
    "# Question 3: Classification of aminoacids"
   ]
  },
  {
   "cell_type": "markdown",
   "metadata": {},
   "source": [
    "### Question 3.a: Reading an aminoacid sequence\n",
    "\n",
    "Write a function called ```readAAsequence``` that takes as its argument the name of a file.  When passed the name of a FASTA file containing an aminoacid sequence, the function should read the file, discard the header and return the sequence as a string."
   ]
  },
  {
   "cell_type": "code",
   "execution_count": null,
   "metadata": {},
   "outputs": [],
   "source": [
    "# Your code here\n",
    "def readAAsequence(fname):\n",
    "    FASTA=open(fname,\"r\") # Opens the file in read mode\n",
    "    FASTA.readline() # Reads the first line and advances the file pointer to the start of the next line\n",
    "    seq=\"\" # Initialises the sequence string \n",
    "    for r in FASTA: # Reads each remaining line separately so that trailing newline characters\n",
    "    # can be removed using .rstrip()\n",
    "        seq+=r.rstrip()\n",
    "    FASTA.close() # Closes the file\n",
    "    seq=seq.upper() # Turns the sequence into uppercase\n",
    "    return seq"
   ]
  },
  {
   "cell_type": "code",
   "execution_count": null,
   "metadata": {},
   "outputs": [],
   "source": [
    "# Test code\n",
    "import os\n",
    "with open(\"test9876350.fas\", \"wt\") as _OUTF:\n",
    "    _OUTF.write(\"> test\\n\")\n",
    "    _OUTF.write(\"TESTTESTTESTTESTTEST\\n\")\n",
    "_seq=readAAsequence(\"test9876350.fas\")\n",
    "os.remove(\"test9876350.fas\")\n",
    "assert type(_seq) is type(\"\"), \"Return value is not a string: %r\" % _seq\n",
    "print \"OK\""
   ]
  },
  {
   "cell_type": "markdown",
   "metadata": {},
   "source": [
    "### Question 3.b: Aminoacid usage statistics\n",
    "\n",
    "Write a function called ```AAtypes``` that takes as its argument a string containing a sequence of aminoacids. The function should compute, for each protein, the fraction of aminoacids that are polar, small and hydrophobic and return that as a list. For instance, if the chain of a protein contains 35% polar residues, 15% small and 50% hydrophobic residues, the function should return ```[0.35, 0.15, 0.5]``` (the order is important). Refer to the Venn diagram in the Assessment Background file for the classification of aminoacids.  Note that some aminoacids belong to more than one category, so that the sum of these three numbers can be larger than 1."
   ]
  },
  {
   "cell_type": "code",
   "execution_count": null,
   "metadata": {},
   "outputs": [],
   "source": [
    "# Your code here\n",
    "def AAtypes(aaseq):\n",
    "    aaseq=aaseq.upper() # Capitalises the amino acid string\n",
    "    categorydict={\"polar\":[\"C\",\"S\",\"T\",\"N\",\"D\",\"Q\",\"E\",\"Y\",\"K\",\"H\",\"R\",\"W\"], # Dictionary\n",
    "                 \"small\":[\"P\",\"A\",\"G\",\"V\",\"C\",\"S\",\"T\",\"N\",\"D\"], # of categories\n",
    "                 \"hydrophobic\":[\"A\",\"I\",\"V\",\"C\",\"L\",\"T\",\"M\",\"Y\",\"H\",\"K\",\"F\",\"W\"]\n",
    "                 }\n",
    "    polarcount=0.0 # Accumulator for counting polar AAs\n",
    "    smallcount=0.0 # Accumulator for counting small AAs\n",
    "    hydrophobiccount=0.0 # Accumulator for counting hydrophobic AAs\n",
    "    for s in aaseq: # Look through all amino acids in string\n",
    "        if s in categorydict[\"polar\"]: # Add 1 to each relevant accumulator\n",
    "            polarcount+=1\n",
    "        if s in categorydict[\"small\"]:\n",
    "            smallcount+=1\n",
    "        if s in categorydict[\"hydrophobic\"]:\n",
    "            hydrophobiccount+=1\n",
    "    polar=polarcount/float(len(aaseq)) # Calculate ratios\n",
    "    small=smallcount/float(len(aaseq))\n",
    "    hydrophobic=hydrophobiccount/float(len(aaseq))\n",
    "    returnlist=[polar,small,hydrophobic] # Compiles figures for return\n",
    "    return returnlist"
   ]
  },
  {
   "cell_type": "code",
   "execution_count": null,
   "metadata": {},
   "outputs": [],
   "source": [
    "# Test code\n",
    "_aatypes=AAtypes(\"TESTTESTTESTTESTTEST\")\n",
    "assert type(_aatypes) is type([]), \"Return value is not a list: %r\" % _aatypes\n",
    "assert len(_aatypes)==3, \"Returned list should contain 3 values\"\n",
    "print \"OK\""
   ]
  },
  {
   "cell_type": "markdown",
   "metadata": {},
   "source": [
    "### Question 3.c: Processing multiple sequences\n",
    "Write a function called ```AAtypetable``` that takes a list of strings called ```filelist``` and a separate string called ```outputfile```. Each element of ```filelist``` represents the name of a FASTA file containing an aminoacid sequence. For each filename, the function should load the sequence, compute the fraction of aminoacids that are polar, small and/or hydrophobic, and finally output this to the text file specified by ```outputfile``` in TSV (tab-separated values) tabular format. The table should contain, on each line, the name of the input file and then the percentages of polar, small and hydrophobic residues (in that order). Include a comment at the beginning of the file that starts with a ```#``` and specifies the content of each column, as follows (numbers shown here are random):\n",
    "```\n",
    "# Filename     Polar     Small     Hydro\n",
    "Pxxx.fas       0.52      0.22        0.33\n",
    "Pyyy.fas       0.47      0.35        0.38\n",
    "...\n",
    "```\n",
    "\n",
    "Include at least two decimal places in your output. Do not worry if the columns do not all look aligned; as long as consecutive values on the same line are separated by a tab, that's fine. If some of the files in ```filelist``` do not exist, contain the wrong data or otherwise generate an error, your function should ignore those files and continue. However, the names of those files should be returned in an output lists. If all files are processed without errors your function should return an empty list.\n",
    "\n",
    "#### Note: I made a mistake here: in my loop, \"for w in finalist: returnlist=AAtypes(w)\", the function processes the file name instead of the sequence it contains!"
   ]
  },
  {
   "cell_type": "code",
   "execution_count": null,
   "metadata": {},
   "outputs": [],
   "source": [
    "# Your code here\n",
    "def AAtypetable(filelist,outputfile):\n",
    "    problemlist=[] # List of problematic file names to return\n",
    "    goodlist=[] # List of existing files to proceed with\n",
    "    characters=\"FLIMVSPTAYHQNKDECWRG\" # List of acceptable amino acid characters\n",
    "    for t in filelist: # For each file listed\n",
    "        if os.path.exists(t)==False: \n",
    "            problemlist.append(t) # Add files that don't exist to this list\n",
    "        else:\n",
    "            goodlist.append(t) # Add files that do exist to this list\n",
    "    finalist=[] # List of existing files with acceptable characters\n",
    "    goodseqs=[] # List of sequences to proceed with\n",
    "    for u in goodlist: # Check each existing file\n",
    "        string=readAAsequence(u) # Save amino acid sequence to string\n",
    "        for v in string: # For each amino acid in the string\n",
    "            if v not in characters: # Check whether it contains acceptable characters\n",
    "                problemlist.append(u) # If not, add the filename to problemlist\n",
    "                break # Move on to the next file in goodlist\n",
    "        if u not in problemlist: # Check whether the file's string passed the test\n",
    "            goodseqs.append(string) # If good, add the string to the list for writing to file\n",
    "            finalist.append(u) # Add the file name to the list for writing to file\n",
    "    FILE=open(outputfile,\"wt\")\n",
    "    FILE.write(\"# Filename\\tPolar\\tSmall\\tHydro\\n\")\n",
    "    for w in finalist: # For each acceptable file\n",
    "        returnlist=AAtypes(w) # Perform the amino acid type calculation       \n",
    "        FILE.write(w+\"\\t\"+\"%.2f\"%returnlist[0]+\"\\t\"+\"%.2f\"%returnlist[1]+\"\\t\"+\"%.2f\"%returnlist[2]+\"\\n\")\n",
    "        # Write filename and calculations to output file\n",
    "    FILE.close() # Close file\n",
    "    return problemlist"
   ]
  },
  {
   "cell_type": "code",
   "execution_count": null,
   "metadata": {},
   "outputs": [],
   "source": [
    "# Test code\n",
    "import os\n",
    "import os.path\n",
    "for fname in [\"_Ptest123.fas\", \"_Ptest456.fas\"]:\n",
    "    with open(fname, \"wt\") as _OUTF:\n",
    "        _OUTF.write(\"> test\\n\")\n",
    "        _OUTF.write(\"TESTTESTTESTTESTTEST\\n\")\n",
    "_rv=AAtypetable(filelist=['_Ptest123.fas','_Ptest456.fas'], outputfile=\"_table_test789.txt\")\n",
    "assert type(_rv) is type([]), \"Function should return a list; it returns %r\" % _rv\n",
    "_fe=os.path.isfile(\"_table_test789.txt\")\n",
    "assert _fe, \"Cannot find output file - has it been created?\"\n",
    "os.remove(\"_Ptest123.fas\")\n",
    "os.remove(\"_Ptest456.fas\")\n",
    "os.remove(\"_table_test789.txt\")\n",
    "print \"OK\""
   ]
  },
  {
   "cell_type": "markdown",
   "metadata": {},
   "source": [
    "# Question 4: Clustering proteins based on aminoacid usage"
   ]
  },
  {
   "cell_type": "markdown",
   "metadata": {},
   "source": [
    "### Question 4.a: Computing the Euclidean distance"
   ]
  },
  {
   "cell_type": "markdown",
   "metadata": {},
   "source": [
    "Write a function called ```distance``` that takes two lists of ```float``` of equal length as its arguments. The function should return the Euclidean distance between the two lists, considered as vectors in a space of dimensionality equal to the length of the lists. That is to say, it should compute the element by element difference between the two lists, square that, sum all the squares and take a square root of the final sum (Eq 1 on this [wiki page](https://en.wikipedia.org/wiki/Euclidean_distance)). Your function should raise a ```DimensionalityException``` if the two lists passed are not of the same length, or if they are both empty; otherwise it should return a ```float```."
   ]
  },
  {
   "cell_type": "code",
   "execution_count": null,
   "metadata": {},
   "outputs": [],
   "source": [
    "# Run this cell to define the exception\n",
    "class DimensionalityException(Exception):\n",
    "    pass"
   ]
  },
  {
   "cell_type": "code",
   "execution_count": null,
   "metadata": {},
   "outputs": [],
   "source": [
    "# Your code here\n",
    "def distance(list1,list2):\n",
    "    if len(list1)!=len(list2): # If list lengths don't match, raise exception\n",
    "        raise DimensionalityException\n",
    "    elif list1==[]: # If either list is empty, raise exception\n",
    "        raise DimensionalityException\n",
    "    elif list2==[]:\n",
    "        raise DimensionalityException\n",
    "    else:\n",
    "        pass\n",
    "    diff=[] # Initialise list of differences\n",
    "    for x,y in enumerate(list1): # For each value\n",
    "        y=float(y) # Ensure list 1 values are floats rather than integers\n",
    "        list2[x]=float(list2[x]) # Ensure list 2 values are floats rather than integers\n",
    "        diff.append(y-list2[x]) # Compute element by element difference\n",
    "    squares=[] # Initialise list of squares\n",
    "    for z in diff: # Square each value and add to list\n",
    "        squares.append(z**2)\n",
    "    summed=sum(squares) # Sum all the squares\n",
    "    Eudist=math.sqrt(summed) # Take a square root of the sum of squares\n",
    "    return Eudist"
   ]
  },
  {
   "cell_type": "code",
   "execution_count": null,
   "metadata": {},
   "outputs": [],
   "source": [
    "# Test code\n",
    "_dist=distance([1.0, 2.0], [1.5, -1.0])\n",
    "assert type(_dist) is type(0.0), \"Return value is not a float: %r\" % _dist\n",
    "print \"OK\""
   ]
  },
  {
   "cell_type": "markdown",
   "metadata": {},
   "source": [
    "### Question 4.b: Reading data in tabular format\n",
    "\n",
    "Write a function called ```readTable``` that takes a string called ```filename``` as its argument. The function should read from the file specified in the argument a TSV table formatted as described at the end of Question 3 (you do not necessarily have to answer Question 3 in order to do this; you can create one such table containing arbitrary values using an editor). The function should return a dictionary with the filenames as its keys; the value associated to each key should be a list of floats, containing in order the percentages of polar, small and hydrophobic AAs, as listed in the table. So for instance, if the argument file contains the table used as an example in Question 3, ```readTable``` should return a dictionary containing at least the following items: \n",
    "```\n",
    "{ \"Pxxx.fas\": [0.52, 0.22, 0.33],  \"Pyyy.fas\": [0.47, 0.35, 0.38],\n",
    "...}\n",
    "```\n"
   ]
  },
  {
   "cell_type": "code",
   "execution_count": null,
   "metadata": {},
   "outputs": [],
   "source": [
    "# Your code here\n",
    "def readTable(filename):\n",
    "    posmhy={} # Initialise dictionary for polar, small and hydrophobic amino acids\n",
    "    TSV=open(filename,\"r\") # Open the file in read mode\n",
    "    TSV.readline() # Discard header\n",
    "    for a in TSV:\n",
    "        line=a.rstrip(\"\\n\") # Read a line and remove newline character\n",
    "        (filename,polar,small,hydro)=line.split(\"\\t\") # Split into fields by tab character\n",
    "        posmhy[filename]=[float(polar),float(small),float(hydro)] # Add to dictionary\n",
    "    TSV.close() # Close file\n",
    "    return posmhy"
   ]
  },
  {
   "cell_type": "code",
   "execution_count": null,
   "metadata": {},
   "outputs": [],
   "source": [
    "# Test code\n",
    "import os\n",
    "with open(\"_testTable123.tsv\", \"wt\") as OUTF:\n",
    "    OUTF.write(\"# Filename\\tPolar\\tSmall\\tHydro\\n\")\n",
    "    OUTF.write(\"Pxxx.fas\\t0.52\\t0.22\\t0.33\\n\")\n",
    "    OUTF.write(\"Pyyy.fas\\t0.47\\t0.35\\t0.38\\n\")\n",
    "_tab=readTable(filename=\"_testTable123.tsv\")\n",
    "assert type(_tab) is type({}), \"Return value is not a dict: %r\" % _tab\n",
    "assert (\"Pxxx.fas\" in _tab) and (\"Pyyy.fas\" in _tab), \"Return dic missing keys\"\n",
    "os.remove(\"_testTable123.tsv\")\n",
    "print \"OK\""
   ]
  },
  {
   "cell_type": "markdown",
   "metadata": {},
   "source": [
    "### Question 4.c: Computing a distance matrix\n",
    "\n",
    "Write a function called ```distanceMatrix``` that takes as its argument two strings called ```inputfile``` and ```outputfile```, used to pass the names of the input and output file. The function should read from the input file a TSV table created as specified at the end of Question 3 (again, you do not necessarily have to answer Question 3 in order to do this; you can create a table with made-up data using an editor). Suppose data for N proteins are read. Your function should then create an output TSV file containing a matrix of size NxN (plus one row and one column for labels). The rows and columns of the matrix should correspond to individual protein file names, so that each matrix entry corresponds to a pair of proteins, say Pxxx and Pyyy. Such entry should contain the distance between the ```[polar, small, hydro]``` lists (considered as 3 dimensional vectors) corresponding to Pxxx and Pyyy. If done correctly, your matrix should be symmetric and have zeroes on the diagonal. Format the matrix with row and column labels as in the following 3-protein example (that contains random numbers):\n",
    "```\n",
    "# Filename      Pxxx.fas  Pyyy.fas  Pzzz.fas\n",
    "Pxxx.fas        0.0       2.3       1.5\n",
    "Pyyy.fas        2.3       0.0       1.8 \n",
    "Pzzz.fas        1.5       1.8       0.0\n",
    "\n",
    "```\n",
    "The exact alignment is not important, as long as the data are separated by tabs and the first line starts with a hash (```#```). Likewise, the order in which the proteins are listed is not important, provided the same order is used along the rows and along the columns. Your function should not return any value."
   ]
  },
  {
   "cell_type": "code",
   "execution_count": null,
   "metadata": {},
   "outputs": [],
   "source": [
    "# Your code here\n",
    "def distanceMatrix(inputfile,outputfile):\n",
    "    filenames=[] # Initialise a list for the filenames\n",
    "    posmhy=readTable(inputfile) # Create a dictionary of values in file\n",
    "    posmhylist=[] # Initialise a list for tuples of dictionary keys and values\n",
    "    for b in posmhy.items(): # Iterate over dictionary\n",
    "        posmhylist.append(b) # Add dictionary items in to list as tuples\n",
    "    colheads=\"# Filename\\t\" # Initialise string for column headers\n",
    "    for c in posmhylist: # Iterate over list of dictionary items\n",
    "        colheads+=c[0]+\"\\t\" # Add the filenames to the column header, tab-separated\n",
    "    colheads=colheads[0:-1] # Remove the final tab from header\n",
    "    colheads=colheads+\"\\n\" # Add newline character to end of header\n",
    "    OUT=open(outputfile,\"wt\") # Create output file\n",
    "    OUT.write(colheads) # Write column headers\n",
    "    for d in posmhylist: # Iterate over list of proteins\n",
    "        distances=\"\" # Initialise a string for the distances to be added to\n",
    "        dist=\"\" # Initialise a string to put distances in\n",
    "        for e in posmhylist: # Iterate over list of proteins\n",
    "            item=str(distance(d[1],e[1])) # Calculate the distances between this protein and another\n",
    "            dist+=item # Add the distance to the string \"dist\"\n",
    "            dist+=\"\\t\" # Add a tab to the string \"dist\"\n",
    "        dist=dist[0:-1] # Remove the final tab from string \"dist\"\n",
    "        distances+=dist # Add \"dist\" to distances list\n",
    "        toprint=str(d[0])+\"\\t\"+str(distances)+\"\\n\" \n",
    "        # Make one line ready to write to file\n",
    "        #(protein name followed by distances with tabs between)\n",
    "        OUT.write(toprint) # Write to output file\n",
    "    OUT.close() # Close output file"
   ]
  },
  {
   "cell_type": "code",
   "execution_count": null,
   "metadata": {},
   "outputs": [],
   "source": [
    "# Test code\n",
    "import os\n",
    "import os.path\n",
    "with open(\"_testTable123.tsv\", \"wt\") as OUTF:\n",
    "    OUTF.write(\"# Filename\\tPolar\\tSmall\\tHydro\\n\")\n",
    "    OUTF.write(\"Pxxx.fas\\t0.52\\t0.22\\t0.33\\n\")\n",
    "    OUTF.write(\"Pyyy.fas\\t0.47\\t0.35\\t0.38\\n\")\n",
    "_rv=distanceMatrix(inputfile=\"_testTable123.tsv\", outputfile=\"_testTable123out.tsv\")\n",
    "assert type(_rv) is type(None),\"Function should not return any value; it returns %r\" % _rv\n",
    "_fe=os.path.isfile(\"_testTable123out.tsv\")\n",
    "assert _fe, \"Cannot find output file - has it been created?\"\n",
    "with open(\"_testTable123out.tsv\", \"rt\") as INF:\n",
    "    _fl=INF.readline()\n",
    "assert _fl[0]=='#', \"First line of output file does not start with a #\"\n",
    "os.remove(\"_testTable123.tsv\")\n",
    "os.remove(\"_testTable123out.tsv\")\n",
    "print \"OK\""
   ]
  }
 ],
 "metadata": {
  "kernelspec": {
   "display_name": "Python 2",
   "language": "python",
   "name": "python2"
  },
  "language_info": {
   "codemirror_mode": {
    "name": "ipython",
    "version": 2
   },
   "file_extension": ".py",
   "mimetype": "text/x-python",
   "name": "python",
   "nbconvert_exporter": "python",
   "pygments_lexer": "ipython2",
   "version": "2.7.16"
  }
 },
 "nbformat": 4,
 "nbformat_minor": 2
}
